{
 "cells": [
  {
   "cell_type": "code",
   "execution_count": 1,
   "id": "837786a5",
   "metadata": {},
   "outputs": [
    {
     "name": "stdout",
     "output_type": "stream",
     "text": [
      "Defaulting to user installation because normal site-packages is not writeable\n",
      "Requirement already satisfied: spacy in /Users/babatundesalako/Library/Python/3.9/lib/python/site-packages (3.8.7)\n",
      "Requirement already satisfied: jinja2 in /Users/babatundesalako/Library/Python/3.9/lib/python/site-packages (from spacy) (3.1.6)\n",
      "Requirement already satisfied: cymem<2.1.0,>=2.0.2 in /Users/babatundesalako/Library/Python/3.9/lib/python/site-packages (from spacy) (2.0.11)\n",
      "Requirement already satisfied: tqdm<5.0.0,>=4.38.0 in /Users/babatundesalako/Library/Python/3.9/lib/python/site-packages (from spacy) (4.67.1)\n",
      "Requirement already satisfied: pydantic!=1.8,!=1.8.1,<3.0.0,>=1.7.4 in /Users/babatundesalako/Library/Python/3.9/lib/python/site-packages (from spacy) (2.11.7)\n",
      "Requirement already satisfied: packaging>=20.0 in /Users/babatundesalako/Library/Python/3.9/lib/python/site-packages (from spacy) (25.0)\n",
      "Requirement already satisfied: preshed<3.1.0,>=3.0.2 in /Users/babatundesalako/Library/Python/3.9/lib/python/site-packages (from spacy) (3.0.10)\n",
      "Requirement already satisfied: srsly<3.0.0,>=2.4.3 in /Users/babatundesalako/Library/Python/3.9/lib/python/site-packages (from spacy) (2.5.1)\n",
      "Requirement already satisfied: numpy>=1.19.0 in /Users/babatundesalako/Library/Python/3.9/lib/python/site-packages (from spacy) (2.0.2)\n",
      "Requirement already satisfied: requests<3.0.0,>=2.13.0 in /Users/babatundesalako/Library/Python/3.9/lib/python/site-packages (from spacy) (2.32.4)\n",
      "Requirement already satisfied: typer<1.0.0,>=0.3.0 in /Users/babatundesalako/Library/Python/3.9/lib/python/site-packages (from spacy) (0.16.0)\n",
      "Requirement already satisfied: langcodes<4.0.0,>=3.2.0 in /Users/babatundesalako/Library/Python/3.9/lib/python/site-packages (from spacy) (3.5.0)\n",
      "Requirement already satisfied: spacy-loggers<2.0.0,>=1.0.0 in /Users/babatundesalako/Library/Python/3.9/lib/python/site-packages (from spacy) (1.0.5)\n",
      "Requirement already satisfied: setuptools in /Library/Developer/CommandLineTools/Library/Frameworks/Python3.framework/Versions/3.9/lib/python3.9/site-packages (from spacy) (58.0.4)\n",
      "Requirement already satisfied: weasel<0.5.0,>=0.1.0 in /Users/babatundesalako/Library/Python/3.9/lib/python/site-packages (from spacy) (0.4.1)\n",
      "Requirement already satisfied: murmurhash<1.1.0,>=0.28.0 in /Users/babatundesalako/Library/Python/3.9/lib/python/site-packages (from spacy) (1.0.13)\n",
      "Requirement already satisfied: thinc<8.4.0,>=8.3.4 in /Users/babatundesalako/Library/Python/3.9/lib/python/site-packages (from spacy) (8.3.6)\n",
      "Requirement already satisfied: spacy-legacy<3.1.0,>=3.0.11 in /Users/babatundesalako/Library/Python/3.9/lib/python/site-packages (from spacy) (3.0.12)\n",
      "Requirement already satisfied: wasabi<1.2.0,>=0.9.1 in /Users/babatundesalako/Library/Python/3.9/lib/python/site-packages (from spacy) (1.1.3)\n",
      "Requirement already satisfied: catalogue<2.1.0,>=2.0.6 in /Users/babatundesalako/Library/Python/3.9/lib/python/site-packages (from spacy) (2.0.10)\n",
      "Requirement already satisfied: language-data>=1.2 in /Users/babatundesalako/Library/Python/3.9/lib/python/site-packages (from langcodes<4.0.0,>=3.2.0->spacy) (1.3.0)\n",
      "Requirement already satisfied: marisa-trie>=1.1.0 in /Users/babatundesalako/Library/Python/3.9/lib/python/site-packages (from language-data>=1.2->langcodes<4.0.0,>=3.2.0->spacy) (1.2.1)\n",
      "Requirement already satisfied: annotated-types>=0.6.0 in /Users/babatundesalako/Library/Python/3.9/lib/python/site-packages (from pydantic!=1.8,!=1.8.1,<3.0.0,>=1.7.4->spacy) (0.7.0)\n",
      "Requirement already satisfied: pydantic-core==2.33.2 in /Users/babatundesalako/Library/Python/3.9/lib/python/site-packages (from pydantic!=1.8,!=1.8.1,<3.0.0,>=1.7.4->spacy) (2.33.2)\n",
      "Requirement already satisfied: typing-extensions>=4.12.2 in /Users/babatundesalako/Library/Python/3.9/lib/python/site-packages (from pydantic!=1.8,!=1.8.1,<3.0.0,>=1.7.4->spacy) (4.14.1)\n",
      "Requirement already satisfied: typing-inspection>=0.4.0 in /Users/babatundesalako/Library/Python/3.9/lib/python/site-packages (from pydantic!=1.8,!=1.8.1,<3.0.0,>=1.7.4->spacy) (0.4.1)\n",
      "Requirement already satisfied: idna<4,>=2.5 in /Users/babatundesalako/Library/Python/3.9/lib/python/site-packages (from requests<3.0.0,>=2.13.0->spacy) (3.10)\n",
      "Requirement already satisfied: urllib3<3,>=1.21.1 in /Users/babatundesalako/Library/Python/3.9/lib/python/site-packages (from requests<3.0.0,>=2.13.0->spacy) (2.5.0)\n",
      "Requirement already satisfied: charset_normalizer<4,>=2 in /Users/babatundesalako/Library/Python/3.9/lib/python/site-packages (from requests<3.0.0,>=2.13.0->spacy) (3.4.2)\n",
      "Requirement already satisfied: certifi>=2017.4.17 in /Users/babatundesalako/Library/Python/3.9/lib/python/site-packages (from requests<3.0.0,>=2.13.0->spacy) (2025.6.15)\n",
      "Requirement already satisfied: blis<1.4.0,>=1.3.0 in /Users/babatundesalako/Library/Python/3.9/lib/python/site-packages (from thinc<8.4.0,>=8.3.4->spacy) (1.3.0)\n",
      "Requirement already satisfied: confection<1.0.0,>=0.0.1 in /Users/babatundesalako/Library/Python/3.9/lib/python/site-packages (from thinc<8.4.0,>=8.3.4->spacy) (0.1.5)\n",
      "Requirement already satisfied: click>=8.0.0 in /Users/babatundesalako/Library/Python/3.9/lib/python/site-packages (from typer<1.0.0,>=0.3.0->spacy) (8.1.8)\n",
      "Requirement already satisfied: rich>=10.11.0 in /Users/babatundesalako/Library/Python/3.9/lib/python/site-packages (from typer<1.0.0,>=0.3.0->spacy) (14.0.0)\n",
      "Requirement already satisfied: shellingham>=1.3.0 in /Users/babatundesalako/Library/Python/3.9/lib/python/site-packages (from typer<1.0.0,>=0.3.0->spacy) (1.5.4)\n",
      "Requirement already satisfied: pygments<3.0.0,>=2.13.0 in /Users/babatundesalako/Library/Python/3.9/lib/python/site-packages (from rich>=10.11.0->typer<1.0.0,>=0.3.0->spacy) (2.19.2)\n",
      "Requirement already satisfied: markdown-it-py>=2.2.0 in /Users/babatundesalako/Library/Python/3.9/lib/python/site-packages (from rich>=10.11.0->typer<1.0.0,>=0.3.0->spacy) (3.0.0)\n",
      "Requirement already satisfied: mdurl~=0.1 in /Users/babatundesalako/Library/Python/3.9/lib/python/site-packages (from markdown-it-py>=2.2.0->rich>=10.11.0->typer<1.0.0,>=0.3.0->spacy) (0.1.2)\n",
      "Requirement already satisfied: smart-open<8.0.0,>=5.2.1 in /Users/babatundesalako/Library/Python/3.9/lib/python/site-packages (from weasel<0.5.0,>=0.1.0->spacy) (7.3.0.post1)\n",
      "Requirement already satisfied: cloudpathlib<1.0.0,>=0.7.0 in /Users/babatundesalako/Library/Python/3.9/lib/python/site-packages (from weasel<0.5.0,>=0.1.0->spacy) (0.21.1)\n",
      "Requirement already satisfied: wrapt in /Users/babatundesalako/Library/Python/3.9/lib/python/site-packages (from smart-open<8.0.0,>=5.2.1->weasel<0.5.0,>=0.1.0->spacy) (1.17.2)\n",
      "Requirement already satisfied: MarkupSafe>=2.0 in /Users/babatundesalako/Library/Python/3.9/lib/python/site-packages (from jinja2->spacy) (3.0.2)\n",
      "\u001b[33mWARNING: You are using pip version 21.2.4; however, version 25.1.1 is available.\n",
      "You should consider upgrading via the '/Library/Developer/CommandLineTools/usr/bin/python3 -m pip install --upgrade pip' command.\u001b[0m\n",
      "Note: you may need to restart the kernel to use updated packages.\n"
     ]
    }
   ],
   "source": [
    "pip install spacy\n"
   ]
  },
  {
   "cell_type": "code",
   "execution_count": 2,
   "id": "767a7674",
   "metadata": {},
   "outputs": [
    {
     "name": "stdout",
     "output_type": "stream",
     "text": [
      "Defaulting to user installation because normal site-packages is not writeable\n",
      "Requirement already satisfied: seaborn in /Users/babatundesalako/Library/Python/3.9/lib/python/site-packages (0.13.2)\n",
      "Requirement already satisfied: matplotlib in /Users/babatundesalako/Library/Python/3.9/lib/python/site-packages (3.9.4)\n",
      "Requirement already satisfied: pandas>=1.2 in /Users/babatundesalako/Library/Python/3.9/lib/python/site-packages (from seaborn) (2.3.0)\n",
      "Requirement already satisfied: numpy!=1.24.0,>=1.20 in /Users/babatundesalako/Library/Python/3.9/lib/python/site-packages (from seaborn) (2.0.2)\n",
      "Requirement already satisfied: kiwisolver>=1.3.1 in /Users/babatundesalako/Library/Python/3.9/lib/python/site-packages (from matplotlib) (1.4.7)\n",
      "Requirement already satisfied: cycler>=0.10 in /Users/babatundesalako/Library/Python/3.9/lib/python/site-packages (from matplotlib) (0.12.1)\n",
      "Requirement already satisfied: pillow>=8 in /Users/babatundesalako/Library/Python/3.9/lib/python/site-packages (from matplotlib) (11.3.0)\n",
      "Requirement already satisfied: python-dateutil>=2.7 in /Users/babatundesalako/Library/Python/3.9/lib/python/site-packages (from matplotlib) (2.9.0.post0)\n",
      "Requirement already satisfied: importlib-resources>=3.2.0 in /Users/babatundesalako/Library/Python/3.9/lib/python/site-packages (from matplotlib) (6.5.2)\n",
      "Requirement already satisfied: contourpy>=1.0.1 in /Users/babatundesalako/Library/Python/3.9/lib/python/site-packages (from matplotlib) (1.3.0)\n",
      "Requirement already satisfied: fonttools>=4.22.0 in /Users/babatundesalako/Library/Python/3.9/lib/python/site-packages (from matplotlib) (4.58.5)\n",
      "Requirement already satisfied: pyparsing>=2.3.1 in /Users/babatundesalako/Library/Python/3.9/lib/python/site-packages (from matplotlib) (3.2.3)\n",
      "Requirement already satisfied: packaging>=20.0 in /Users/babatundesalako/Library/Python/3.9/lib/python/site-packages (from matplotlib) (25.0)\n",
      "Requirement already satisfied: zipp>=3.1.0 in /Users/babatundesalako/Library/Python/3.9/lib/python/site-packages (from importlib-resources>=3.2.0->matplotlib) (3.23.0)\n",
      "Requirement already satisfied: tzdata>=2022.7 in /Users/babatundesalako/Library/Python/3.9/lib/python/site-packages (from pandas>=1.2->seaborn) (2025.2)\n",
      "Requirement already satisfied: pytz>=2020.1 in /Users/babatundesalako/Library/Python/3.9/lib/python/site-packages (from pandas>=1.2->seaborn) (2025.2)\n",
      "Requirement already satisfied: six>=1.5 in /Library/Developer/CommandLineTools/Library/Frameworks/Python3.framework/Versions/3.9/lib/python3.9/site-packages (from python-dateutil>=2.7->matplotlib) (1.15.0)\n",
      "\u001b[33mWARNING: You are using pip version 21.2.4; however, version 25.1.1 is available.\n",
      "You should consider upgrading via the '/Library/Developer/CommandLineTools/usr/bin/python3 -m pip install --upgrade pip' command.\u001b[0m\n",
      "Note: you may need to restart the kernel to use updated packages.\n"
     ]
    }
   ],
   "source": [
    "pip install seaborn matplotlib\n"
   ]
  },
  {
   "cell_type": "code",
   "execution_count": 3,
   "id": "a5b3620f",
   "metadata": {},
   "outputs": [
    {
     "name": "stdout",
     "output_type": "stream",
     "text": [
      "Defaulting to user installation because normal site-packages is not writeable\n",
      "Requirement already satisfied: wordcloud in /Users/babatundesalako/Library/Python/3.9/lib/python/site-packages (1.9.4)\n",
      "Requirement already satisfied: pillow in /Users/babatundesalako/Library/Python/3.9/lib/python/site-packages (from wordcloud) (11.3.0)\n",
      "Requirement already satisfied: numpy>=1.6.1 in /Users/babatundesalako/Library/Python/3.9/lib/python/site-packages (from wordcloud) (2.0.2)\n",
      "Requirement already satisfied: matplotlib in /Users/babatundesalako/Library/Python/3.9/lib/python/site-packages (from wordcloud) (3.9.4)\n",
      "Requirement already satisfied: importlib-resources>=3.2.0 in /Users/babatundesalako/Library/Python/3.9/lib/python/site-packages (from matplotlib->wordcloud) (6.5.2)\n",
      "Requirement already satisfied: kiwisolver>=1.3.1 in /Users/babatundesalako/Library/Python/3.9/lib/python/site-packages (from matplotlib->wordcloud) (1.4.7)\n",
      "Requirement already satisfied: pyparsing>=2.3.1 in /Users/babatundesalako/Library/Python/3.9/lib/python/site-packages (from matplotlib->wordcloud) (3.2.3)\n",
      "Requirement already satisfied: cycler>=0.10 in /Users/babatundesalako/Library/Python/3.9/lib/python/site-packages (from matplotlib->wordcloud) (0.12.1)\n",
      "Requirement already satisfied: packaging>=20.0 in /Users/babatundesalako/Library/Python/3.9/lib/python/site-packages (from matplotlib->wordcloud) (25.0)\n",
      "Requirement already satisfied: python-dateutil>=2.7 in /Users/babatundesalako/Library/Python/3.9/lib/python/site-packages (from matplotlib->wordcloud) (2.9.0.post0)\n",
      "Requirement already satisfied: fonttools>=4.22.0 in /Users/babatundesalako/Library/Python/3.9/lib/python/site-packages (from matplotlib->wordcloud) (4.58.5)\n",
      "Requirement already satisfied: contourpy>=1.0.1 in /Users/babatundesalako/Library/Python/3.9/lib/python/site-packages (from matplotlib->wordcloud) (1.3.0)\n",
      "Requirement already satisfied: zipp>=3.1.0 in /Users/babatundesalako/Library/Python/3.9/lib/python/site-packages (from importlib-resources>=3.2.0->matplotlib->wordcloud) (3.23.0)\n",
      "Requirement already satisfied: six>=1.5 in /Library/Developer/CommandLineTools/Library/Frameworks/Python3.framework/Versions/3.9/lib/python3.9/site-packages (from python-dateutil>=2.7->matplotlib->wordcloud) (1.15.0)\n",
      "\u001b[33mWARNING: You are using pip version 21.2.4; however, version 25.1.1 is available.\n",
      "You should consider upgrading via the '/Library/Developer/CommandLineTools/usr/bin/python3 -m pip install --upgrade pip' command.\u001b[0m\n",
      "Note: you may need to restart the kernel to use updated packages.\n"
     ]
    }
   ],
   "source": [
    "pip install wordcloud\n"
   ]
  },
  {
   "cell_type": "code",
   "execution_count": 4,
   "id": "d10eb425",
   "metadata": {},
   "outputs": [
    {
     "name": "stdout",
     "output_type": "stream",
     "text": [
      "Defaulting to user installation because normal site-packages is not writeable\n",
      "Requirement already satisfied: spacy in /Users/babatundesalako/Library/Python/3.9/lib/python/site-packages (3.8.7)\n",
      "Requirement already satisfied: wasabi<1.2.0,>=0.9.1 in /Users/babatundesalako/Library/Python/3.9/lib/python/site-packages (from spacy) (1.1.3)\n",
      "Requirement already satisfied: preshed<3.1.0,>=3.0.2 in /Users/babatundesalako/Library/Python/3.9/lib/python/site-packages (from spacy) (3.0.10)\n",
      "Requirement already satisfied: tqdm<5.0.0,>=4.38.0 in /Users/babatundesalako/Library/Python/3.9/lib/python/site-packages (from spacy) (4.67.1)\n",
      "Requirement already satisfied: pydantic!=1.8,!=1.8.1,<3.0.0,>=1.7.4 in /Users/babatundesalako/Library/Python/3.9/lib/python/site-packages (from spacy) (2.11.7)\n",
      "Requirement already satisfied: srsly<3.0.0,>=2.4.3 in /Users/babatundesalako/Library/Python/3.9/lib/python/site-packages (from spacy) (2.5.1)\n",
      "Requirement already satisfied: typer<1.0.0,>=0.3.0 in /Users/babatundesalako/Library/Python/3.9/lib/python/site-packages (from spacy) (0.16.0)\n",
      "Requirement already satisfied: jinja2 in /Users/babatundesalako/Library/Python/3.9/lib/python/site-packages (from spacy) (3.1.6)\n",
      "Requirement already satisfied: murmurhash<1.1.0,>=0.28.0 in /Users/babatundesalako/Library/Python/3.9/lib/python/site-packages (from spacy) (1.0.13)\n",
      "Requirement already satisfied: cymem<2.1.0,>=2.0.2 in /Users/babatundesalako/Library/Python/3.9/lib/python/site-packages (from spacy) (2.0.11)\n",
      "Requirement already satisfied: numpy>=1.19.0 in /Users/babatundesalako/Library/Python/3.9/lib/python/site-packages (from spacy) (2.0.2)\n",
      "Requirement already satisfied: spacy-loggers<2.0.0,>=1.0.0 in /Users/babatundesalako/Library/Python/3.9/lib/python/site-packages (from spacy) (1.0.5)\n",
      "Requirement already satisfied: langcodes<4.0.0,>=3.2.0 in /Users/babatundesalako/Library/Python/3.9/lib/python/site-packages (from spacy) (3.5.0)\n",
      "Requirement already satisfied: setuptools in /Library/Developer/CommandLineTools/Library/Frameworks/Python3.framework/Versions/3.9/lib/python3.9/site-packages (from spacy) (58.0.4)\n",
      "Requirement already satisfied: requests<3.0.0,>=2.13.0 in /Users/babatundesalako/Library/Python/3.9/lib/python/site-packages (from spacy) (2.32.4)\n",
      "Requirement already satisfied: catalogue<2.1.0,>=2.0.6 in /Users/babatundesalako/Library/Python/3.9/lib/python/site-packages (from spacy) (2.0.10)\n",
      "Requirement already satisfied: spacy-legacy<3.1.0,>=3.0.11 in /Users/babatundesalako/Library/Python/3.9/lib/python/site-packages (from spacy) (3.0.12)\n",
      "Requirement already satisfied: packaging>=20.0 in /Users/babatundesalako/Library/Python/3.9/lib/python/site-packages (from spacy) (25.0)\n",
      "Requirement already satisfied: weasel<0.5.0,>=0.1.0 in /Users/babatundesalako/Library/Python/3.9/lib/python/site-packages (from spacy) (0.4.1)\n",
      "Requirement already satisfied: thinc<8.4.0,>=8.3.4 in /Users/babatundesalako/Library/Python/3.9/lib/python/site-packages (from spacy) (8.3.6)\n",
      "Requirement already satisfied: language-data>=1.2 in /Users/babatundesalako/Library/Python/3.9/lib/python/site-packages (from langcodes<4.0.0,>=3.2.0->spacy) (1.3.0)\n",
      "Requirement already satisfied: marisa-trie>=1.1.0 in /Users/babatundesalako/Library/Python/3.9/lib/python/site-packages (from language-data>=1.2->langcodes<4.0.0,>=3.2.0->spacy) (1.2.1)\n",
      "Requirement already satisfied: pydantic-core==2.33.2 in /Users/babatundesalako/Library/Python/3.9/lib/python/site-packages (from pydantic!=1.8,!=1.8.1,<3.0.0,>=1.7.4->spacy) (2.33.2)\n",
      "Requirement already satisfied: typing-extensions>=4.12.2 in /Users/babatundesalako/Library/Python/3.9/lib/python/site-packages (from pydantic!=1.8,!=1.8.1,<3.0.0,>=1.7.4->spacy) (4.14.1)\n",
      "Requirement already satisfied: annotated-types>=0.6.0 in /Users/babatundesalako/Library/Python/3.9/lib/python/site-packages (from pydantic!=1.8,!=1.8.1,<3.0.0,>=1.7.4->spacy) (0.7.0)\n",
      "Requirement already satisfied: typing-inspection>=0.4.0 in /Users/babatundesalako/Library/Python/3.9/lib/python/site-packages (from pydantic!=1.8,!=1.8.1,<3.0.0,>=1.7.4->spacy) (0.4.1)\n",
      "Requirement already satisfied: urllib3<3,>=1.21.1 in /Users/babatundesalako/Library/Python/3.9/lib/python/site-packages (from requests<3.0.0,>=2.13.0->spacy) (2.5.0)\n",
      "Requirement already satisfied: certifi>=2017.4.17 in /Users/babatundesalako/Library/Python/3.9/lib/python/site-packages (from requests<3.0.0,>=2.13.0->spacy) (2025.6.15)\n",
      "Requirement already satisfied: charset_normalizer<4,>=2 in /Users/babatundesalako/Library/Python/3.9/lib/python/site-packages (from requests<3.0.0,>=2.13.0->spacy) (3.4.2)\n",
      "Requirement already satisfied: idna<4,>=2.5 in /Users/babatundesalako/Library/Python/3.9/lib/python/site-packages (from requests<3.0.0,>=2.13.0->spacy) (3.10)\n",
      "Requirement already satisfied: confection<1.0.0,>=0.0.1 in /Users/babatundesalako/Library/Python/3.9/lib/python/site-packages (from thinc<8.4.0,>=8.3.4->spacy) (0.1.5)\n",
      "Requirement already satisfied: blis<1.4.0,>=1.3.0 in /Users/babatundesalako/Library/Python/3.9/lib/python/site-packages (from thinc<8.4.0,>=8.3.4->spacy) (1.3.0)\n",
      "Requirement already satisfied: rich>=10.11.0 in /Users/babatundesalako/Library/Python/3.9/lib/python/site-packages (from typer<1.0.0,>=0.3.0->spacy) (14.0.0)\n",
      "Requirement already satisfied: click>=8.0.0 in /Users/babatundesalako/Library/Python/3.9/lib/python/site-packages (from typer<1.0.0,>=0.3.0->spacy) (8.1.8)\n",
      "Requirement already satisfied: shellingham>=1.3.0 in /Users/babatundesalako/Library/Python/3.9/lib/python/site-packages (from typer<1.0.0,>=0.3.0->spacy) (1.5.4)\n",
      "Requirement already satisfied: markdown-it-py>=2.2.0 in /Users/babatundesalako/Library/Python/3.9/lib/python/site-packages (from rich>=10.11.0->typer<1.0.0,>=0.3.0->spacy) (3.0.0)\n",
      "Requirement already satisfied: pygments<3.0.0,>=2.13.0 in /Users/babatundesalako/Library/Python/3.9/lib/python/site-packages (from rich>=10.11.0->typer<1.0.0,>=0.3.0->spacy) (2.19.2)\n",
      "Requirement already satisfied: mdurl~=0.1 in /Users/babatundesalako/Library/Python/3.9/lib/python/site-packages (from markdown-it-py>=2.2.0->rich>=10.11.0->typer<1.0.0,>=0.3.0->spacy) (0.1.2)\n",
      "Requirement already satisfied: smart-open<8.0.0,>=5.2.1 in /Users/babatundesalako/Library/Python/3.9/lib/python/site-packages (from weasel<0.5.0,>=0.1.0->spacy) (7.3.0.post1)\n",
      "Requirement already satisfied: cloudpathlib<1.0.0,>=0.7.0 in /Users/babatundesalako/Library/Python/3.9/lib/python/site-packages (from weasel<0.5.0,>=0.1.0->spacy) (0.21.1)\n",
      "Requirement already satisfied: wrapt in /Users/babatundesalako/Library/Python/3.9/lib/python/site-packages (from smart-open<8.0.0,>=5.2.1->weasel<0.5.0,>=0.1.0->spacy) (1.17.2)\n",
      "Requirement already satisfied: MarkupSafe>=2.0 in /Users/babatundesalako/Library/Python/3.9/lib/python/site-packages (from jinja2->spacy) (3.0.2)\n",
      "\u001b[33mWARNING: You are using pip version 21.2.4; however, version 25.1.1 is available.\n",
      "You should consider upgrading via the '/Library/Developer/CommandLineTools/usr/bin/python3 -m pip install --upgrade pip' command.\u001b[0m\n",
      "Note: you may need to restart the kernel to use updated packages.\n"
     ]
    }
   ],
   "source": [
    "%pip install -U spacy\n"
   ]
  },
  {
   "cell_type": "code",
   "execution_count": 6,
   "id": "e451add6",
   "metadata": {},
   "outputs": [
    {
     "name": "stdout",
     "output_type": "stream",
     "text": [
      "zsh:1: command not found: python\n"
     ]
    },
    {
     "name": "stderr",
     "output_type": "stream",
     "text": [
      "/Users/babatundesalako/Library/Python/3.9/lib/python/site-packages/urllib3/__init__.py:35: NotOpenSSLWarning: urllib3 v2 only supports OpenSSL 1.1.1+, currently the 'ssl' module is compiled with 'LibreSSL 2.8.3'. See: https://github.com/urllib3/urllib3/issues/3020\n",
      "  warnings.warn(\n",
      "/Users/babatundesalako/Library/Python/3.9/lib/python/site-packages/tqdm/auto.py:21: TqdmWarning: IProgress not found. Please update jupyter and ipywidgets. See https://ipywidgets.readthedocs.io/en/stable/user_install.html\n",
      "  from .autonotebook import tqdm as notebook_tqdm\n"
     ]
    }
   ],
   "source": [
    "!python -m spacy download en_core_web_sm\n",
    "import os\n",
    "import pandas as pd\n",
    "import spacy\n",
    "from sentence_transformers import SentenceTransformer\n",
    "import hdbscan\n",
    "import umap\n",
    "import matplotlib.pyplot as plt\n",
    "import seaborn as sns\n",
    "from wordcloud import WordCloud\n",
    "from bertopic import BERTopic"
   ]
  },
  {
   "cell_type": "code",
   "execution_count": null,
   "id": "4c13c731",
   "metadata": {},
   "outputs": [],
   "source": []
  }
 ],
 "metadata": {
  "kernelspec": {
   "display_name": "Python 3",
   "language": "python",
   "name": "python3"
  },
  "language_info": {
   "codemirror_mode": {
    "name": "ipython",
    "version": 3
   },
   "file_extension": ".py",
   "mimetype": "text/x-python",
   "name": "python",
   "nbconvert_exporter": "python",
   "pygments_lexer": "ipython3",
   "version": "3.9.6"
  }
 },
 "nbformat": 4,
 "nbformat_minor": 5
}
